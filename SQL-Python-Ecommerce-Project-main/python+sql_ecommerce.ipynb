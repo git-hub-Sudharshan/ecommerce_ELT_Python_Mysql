{
 "cells": [
  {
   "cell_type": "code",
   "execution_count": 17,
   "id": "62115bbe-1660-482b-9875-888ee2576d96",
   "metadata": {},
   "outputs": [],
   "source": [
    "import pandas as pd\n",
    "import matplotlib.pyplot as plt\n",
    "import seaborn as sns\n",
    "import mysql.connector\n",
    "\n",
    "\n",
    "db = mysql.connector.connect(\n",
    "    host=\"localhost\",   # just the hostname, no port here\n",
    "    port=3306,          # specify port separately\n",
    "    user=\"root\",\n",
    "    password=\"sudhan\",\n",
    "    database='ecommerce_db_new'\n",
    "                            )\n",
    "cur = db.cursor()\n",
    "\n"
   ]
  },
  {
   "cell_type": "markdown",
   "id": "912b34b2-2486-4a21-95a1-93c6e34266b9",
   "metadata": {},
   "source": [
    "# List all unique cities where customers are located."
   ]
  },
  {
   "cell_type": "code",
   "execution_count": 18,
   "id": "f59d77bc-4da7-4609-b766-50f84382b6be",
   "metadata": {},
   "outputs": [
    {
     "data": {
      "application/vnd.microsoft.datawrangler.viewer.v0+json": {
       "columns": [
        {
         "name": "index",
         "rawType": "int64",
         "type": "integer"
        },
        {
         "name": "0",
         "rawType": "object",
         "type": "string"
        }
       ],
       "ref": "ce83612a-b51d-47a6-98b9-4816b7007fc5",
       "rows": [
        [
         "0",
         "franca"
        ],
        [
         "1",
         "sao bernardo do campo"
        ],
        [
         "2",
         "sao paulo"
        ],
        [
         "3",
         "mogi das cruzes"
        ],
        [
         "4",
         "campinas"
        ],
        [
         "5",
         "jaragua do sul"
        ],
        [
         "6",
         "timoteo"
        ],
        [
         "7",
         "curitiba"
        ],
        [
         "8",
         "belo horizonte"
        ],
        [
         "9",
         "montes claros"
        ],
        [
         "10",
         "rio de janeiro"
        ],
        [
         "11",
         "lencois paulista"
        ],
        [
         "12",
         "caxias do sul"
        ],
        [
         "13",
         "piracicaba"
        ],
        [
         "14",
         "guarulhos"
        ],
        [
         "15",
         "pacaja"
        ],
        [
         "16",
         "florianopolis"
        ],
        [
         "17",
         "aparecida de goiania"
        ],
        [
         "18",
         "santo andre"
        ],
        [
         "19",
         "goiania"
        ],
        [
         "20",
         "cachoeiro de itapemirim"
        ],
        [
         "21",
         "sao jose dos campos"
        ],
        [
         "22",
         "sao roque"
        ],
        [
         "23",
         "camacari"
        ],
        [
         "24",
         "resende"
        ],
        [
         "25",
         "sumare"
        ],
        [
         "26",
         "novo hamburgo"
        ],
        [
         "27",
         "sao luis"
        ],
        [
         "28",
         "sao jose"
        ],
        [
         "29",
         "santa barbara"
        ],
        [
         "30",
         "ribeirao preto"
        ],
        [
         "31",
         "ituiutaba"
        ],
        [
         "32",
         "taquarituba"
        ],
        [
         "33",
         "sao jose dos pinhais"
        ],
        [
         "34",
         "barrinha"
        ],
        [
         "35",
         "parati"
        ],
        [
         "36",
         "dourados"
        ],
        [
         "37",
         "trindade"
        ],
        [
         "38",
         "cascavel"
        ],
        [
         "39",
         "fortaleza"
        ],
        [
         "40",
         "brasilia"
        ],
        [
         "41",
         "pelotas"
        ],
        [
         "42",
         "porto alegre"
        ],
        [
         "43",
         "salto"
        ],
        [
         "44",
         "jundiai"
        ],
        [
         "45",
         "cacapava"
        ],
        [
         "46",
         "sao vicente"
        ],
        [
         "47",
         "uberlandia"
        ],
        [
         "48",
         "botelhos"
        ],
        [
         "49",
         "sao goncalo"
        ]
       ],
       "shape": {
        "columns": 1,
        "rows": 50
       }
      },
      "text/html": [
       "<div>\n",
       "<style scoped>\n",
       "    .dataframe tbody tr th:only-of-type {\n",
       "        vertical-align: middle;\n",
       "    }\n",
       "\n",
       "    .dataframe tbody tr th {\n",
       "        vertical-align: top;\n",
       "    }\n",
       "\n",
       "    .dataframe thead th {\n",
       "        text-align: right;\n",
       "    }\n",
       "</style>\n",
       "<table border=\"1\" class=\"dataframe\">\n",
       "  <thead>\n",
       "    <tr style=\"text-align: right;\">\n",
       "      <th></th>\n",
       "      <th>0</th>\n",
       "    </tr>\n",
       "  </thead>\n",
       "  <tbody>\n",
       "    <tr>\n",
       "      <th>0</th>\n",
       "      <td>franca</td>\n",
       "    </tr>\n",
       "    <tr>\n",
       "      <th>1</th>\n",
       "      <td>sao bernardo do campo</td>\n",
       "    </tr>\n",
       "    <tr>\n",
       "      <th>2</th>\n",
       "      <td>sao paulo</td>\n",
       "    </tr>\n",
       "    <tr>\n",
       "      <th>3</th>\n",
       "      <td>mogi das cruzes</td>\n",
       "    </tr>\n",
       "    <tr>\n",
       "      <th>4</th>\n",
       "      <td>campinas</td>\n",
       "    </tr>\n",
       "    <tr>\n",
       "      <th>5</th>\n",
       "      <td>jaragua do sul</td>\n",
       "    </tr>\n",
       "    <tr>\n",
       "      <th>6</th>\n",
       "      <td>timoteo</td>\n",
       "    </tr>\n",
       "    <tr>\n",
       "      <th>7</th>\n",
       "      <td>curitiba</td>\n",
       "    </tr>\n",
       "    <tr>\n",
       "      <th>8</th>\n",
       "      <td>belo horizonte</td>\n",
       "    </tr>\n",
       "    <tr>\n",
       "      <th>9</th>\n",
       "      <td>montes claros</td>\n",
       "    </tr>\n",
       "    <tr>\n",
       "      <th>10</th>\n",
       "      <td>rio de janeiro</td>\n",
       "    </tr>\n",
       "    <tr>\n",
       "      <th>11</th>\n",
       "      <td>lencois paulista</td>\n",
       "    </tr>\n",
       "    <tr>\n",
       "      <th>12</th>\n",
       "      <td>caxias do sul</td>\n",
       "    </tr>\n",
       "    <tr>\n",
       "      <th>13</th>\n",
       "      <td>piracicaba</td>\n",
       "    </tr>\n",
       "    <tr>\n",
       "      <th>14</th>\n",
       "      <td>guarulhos</td>\n",
       "    </tr>\n",
       "    <tr>\n",
       "      <th>15</th>\n",
       "      <td>pacaja</td>\n",
       "    </tr>\n",
       "    <tr>\n",
       "      <th>16</th>\n",
       "      <td>florianopolis</td>\n",
       "    </tr>\n",
       "    <tr>\n",
       "      <th>17</th>\n",
       "      <td>aparecida de goiania</td>\n",
       "    </tr>\n",
       "    <tr>\n",
       "      <th>18</th>\n",
       "      <td>santo andre</td>\n",
       "    </tr>\n",
       "    <tr>\n",
       "      <th>19</th>\n",
       "      <td>goiania</td>\n",
       "    </tr>\n",
       "    <tr>\n",
       "      <th>20</th>\n",
       "      <td>cachoeiro de itapemirim</td>\n",
       "    </tr>\n",
       "    <tr>\n",
       "      <th>21</th>\n",
       "      <td>sao jose dos campos</td>\n",
       "    </tr>\n",
       "    <tr>\n",
       "      <th>22</th>\n",
       "      <td>sao roque</td>\n",
       "    </tr>\n",
       "    <tr>\n",
       "      <th>23</th>\n",
       "      <td>camacari</td>\n",
       "    </tr>\n",
       "    <tr>\n",
       "      <th>24</th>\n",
       "      <td>resende</td>\n",
       "    </tr>\n",
       "    <tr>\n",
       "      <th>25</th>\n",
       "      <td>sumare</td>\n",
       "    </tr>\n",
       "    <tr>\n",
       "      <th>26</th>\n",
       "      <td>novo hamburgo</td>\n",
       "    </tr>\n",
       "    <tr>\n",
       "      <th>27</th>\n",
       "      <td>sao luis</td>\n",
       "    </tr>\n",
       "    <tr>\n",
       "      <th>28</th>\n",
       "      <td>sao jose</td>\n",
       "    </tr>\n",
       "    <tr>\n",
       "      <th>29</th>\n",
       "      <td>santa barbara</td>\n",
       "    </tr>\n",
       "    <tr>\n",
       "      <th>30</th>\n",
       "      <td>ribeirao preto</td>\n",
       "    </tr>\n",
       "    <tr>\n",
       "      <th>31</th>\n",
       "      <td>ituiutaba</td>\n",
       "    </tr>\n",
       "    <tr>\n",
       "      <th>32</th>\n",
       "      <td>taquarituba</td>\n",
       "    </tr>\n",
       "    <tr>\n",
       "      <th>33</th>\n",
       "      <td>sao jose dos pinhais</td>\n",
       "    </tr>\n",
       "    <tr>\n",
       "      <th>34</th>\n",
       "      <td>barrinha</td>\n",
       "    </tr>\n",
       "    <tr>\n",
       "      <th>35</th>\n",
       "      <td>parati</td>\n",
       "    </tr>\n",
       "    <tr>\n",
       "      <th>36</th>\n",
       "      <td>dourados</td>\n",
       "    </tr>\n",
       "    <tr>\n",
       "      <th>37</th>\n",
       "      <td>trindade</td>\n",
       "    </tr>\n",
       "    <tr>\n",
       "      <th>38</th>\n",
       "      <td>cascavel</td>\n",
       "    </tr>\n",
       "    <tr>\n",
       "      <th>39</th>\n",
       "      <td>fortaleza</td>\n",
       "    </tr>\n",
       "    <tr>\n",
       "      <th>40</th>\n",
       "      <td>brasilia</td>\n",
       "    </tr>\n",
       "    <tr>\n",
       "      <th>41</th>\n",
       "      <td>pelotas</td>\n",
       "    </tr>\n",
       "    <tr>\n",
       "      <th>42</th>\n",
       "      <td>porto alegre</td>\n",
       "    </tr>\n",
       "    <tr>\n",
       "      <th>43</th>\n",
       "      <td>salto</td>\n",
       "    </tr>\n",
       "    <tr>\n",
       "      <th>44</th>\n",
       "      <td>jundiai</td>\n",
       "    </tr>\n",
       "    <tr>\n",
       "      <th>45</th>\n",
       "      <td>cacapava</td>\n",
       "    </tr>\n",
       "    <tr>\n",
       "      <th>46</th>\n",
       "      <td>sao vicente</td>\n",
       "    </tr>\n",
       "    <tr>\n",
       "      <th>47</th>\n",
       "      <td>uberlandia</td>\n",
       "    </tr>\n",
       "    <tr>\n",
       "      <th>48</th>\n",
       "      <td>botelhos</td>\n",
       "    </tr>\n",
       "    <tr>\n",
       "      <th>49</th>\n",
       "      <td>sao goncalo</td>\n",
       "    </tr>\n",
       "  </tbody>\n",
       "</table>\n",
       "</div>"
      ],
      "text/plain": [
       "                          0\n",
       "0                    franca\n",
       "1     sao bernardo do campo\n",
       "2                 sao paulo\n",
       "3           mogi das cruzes\n",
       "4                  campinas\n",
       "5            jaragua do sul\n",
       "6                   timoteo\n",
       "7                  curitiba\n",
       "8            belo horizonte\n",
       "9             montes claros\n",
       "10           rio de janeiro\n",
       "11         lencois paulista\n",
       "12            caxias do sul\n",
       "13               piracicaba\n",
       "14                guarulhos\n",
       "15                   pacaja\n",
       "16            florianopolis\n",
       "17     aparecida de goiania\n",
       "18              santo andre\n",
       "19                  goiania\n",
       "20  cachoeiro de itapemirim\n",
       "21      sao jose dos campos\n",
       "22                sao roque\n",
       "23                 camacari\n",
       "24                  resende\n",
       "25                   sumare\n",
       "26            novo hamburgo\n",
       "27                 sao luis\n",
       "28                 sao jose\n",
       "29            santa barbara\n",
       "30           ribeirao preto\n",
       "31                ituiutaba\n",
       "32              taquarituba\n",
       "33     sao jose dos pinhais\n",
       "34                 barrinha\n",
       "35                   parati\n",
       "36                 dourados\n",
       "37                 trindade\n",
       "38                 cascavel\n",
       "39                fortaleza\n",
       "40                 brasilia\n",
       "41                  pelotas\n",
       "42             porto alegre\n",
       "43                    salto\n",
       "44                  jundiai\n",
       "45                 cacapava\n",
       "46              sao vicente\n",
       "47               uberlandia\n",
       "48                 botelhos\n",
       "49              sao goncalo"
      ]
     },
     "execution_count": 18,
     "metadata": {},
     "output_type": "execute_result"
    }
   ],
   "source": [
    "query = \"\"\" select distinct customer_city from customers \"\"\"\n",
    "\n",
    "cur.execute(query)\n",
    "\n",
    "data = cur.fetchall()\n",
    "\n",
    "df = pd.DataFrame(data)\n",
    "df.head(50)\n"
   ]
  },
  {
   "cell_type": "markdown",
   "id": "d089d559-7f52-40f2-b3cb-a5cc9b884015",
   "metadata": {},
   "source": [
    "# Count the number of orders placed in 2017."
   ]
  },
  {
   "cell_type": "code",
   "execution_count": 19,
   "id": "0667a10e-3d3d-407e-b054-14e775b776bb",
   "metadata": {},
   "outputs": [
    {
     "data": {
      "text/plain": [
       "('total orders placed in 2017 are', 135303)"
      ]
     },
     "execution_count": 19,
     "metadata": {},
     "output_type": "execute_result"
    }
   ],
   "source": [
    "query = \"\"\" select count(order_id) from orders where year(order_purchase_timestamp) = 2017 \"\"\"\n",
    "\n",
    "cur.execute(query)\n",
    "\n",
    "data = cur.fetchall()\n",
    "\n",
    "\"total orders placed in 2017 are\", data[0][0]"
   ]
  },
  {
   "cell_type": "markdown",
   "id": "f9912bd4-03b3-4268-bea4-ecc548e241d2",
   "metadata": {},
   "source": [
    "# Find the total sales per category."
   ]
  },
  {
   "cell_type": "code",
   "execution_count": 20,
   "id": "e1aa8df8-35d3-42db-960f-171f596b9eda",
   "metadata": {},
   "outputs": [
    {
     "data": {
      "application/vnd.microsoft.datawrangler.viewer.v0+json": {
       "columns": [
        {
         "name": "index",
         "rawType": "int64",
         "type": "integer"
        },
        {
         "name": "Category",
         "rawType": "object",
         "type": "unknown"
        },
        {
         "name": "Sales",
         "rawType": "float64",
         "type": "float"
        }
       ],
       "ref": "19f6acfc-6bc4-4385-adb0-426868ecc7f0",
       "rows": [
        [
         "0",
         "PERFUMERY",
         "13681943.82"
        ],
        [
         "1",
         "FURNITURE DECORATION",
         "38614762.58"
        ],
        [
         "2",
         "TELEPHONY",
         "13145815.37"
        ],
        [
         "3",
         "BED TABLE BATH",
         "46238949.12"
        ],
        [
         "4",
         "AUTOMOTIVE",
         "23011946.94"
        ],
        [
         "5",
         "COMPUTER ACCESSORIES",
         "42803922.05"
        ],
        [
         "6",
         "HOUSEWARES",
         "29558469.52"
        ],
        [
         "7",
         "BABIES",
         "14575832.81"
        ],
        [
         "8",
         "TOYS",
         "16714017.62"
        ],
        [
         "9",
         "FURNITURE OFFICE",
         "17464315.15"
        ],
        [
         "10",
         "COOL STUFF",
         "21051846.0"
        ],
        [
         "11",
         "HEALTH BEAUTY",
         "44749074.22"
        ],
        [
         "12",
         "PET SHOP",
         "8404262.2"
        ],
        [
         "13",
         "GENERAL INTEREST BOOKS",
         "1746758.51"
        ],
        [
         "14",
         "STATIONARY STORE",
         "8570881.88"
        ],
        [
         "15",
         "WATCHES PRESENT",
         "38588850.32"
        ],
        [
         "16",
         "PCS",
         "7536281.83"
        ],
        [
         "17",
         "CLIMATIZATION",
         "2461607.81"
        ],
        [
         "18",
         "CONSTRUCTION TOOLS CONSTRUCTION",
         "6519842.02"
        ],
        [
         "19",
         "SPORT LEISURE",
         "37587444.1"
        ],
        [
         "20",
         "BAGS ACCESSORIES",
         "5053084.84"
        ],
        [
         "21",
         "ELECTRONICS",
         "7016141.69"
        ],
        [
         "22",
         "CASA CONSTRUCAO",
         "3689422.84"
        ],
        [
         "23",
         "GAMES CONSOLES",
         "5277970.24"
        ],
        [
         "24",
         "FASHION BAGS AND ACCESSORIES",
         "5890273.56"
        ],
        [
         "25",
         "HOME APPLIANCES",
         "2579371.29"
        ],
        [
         "26",
         "GARDEN TOOLS",
         "22633580.27"
        ],
        [
         "27",
         "AGRO INDUSTRIA E COMERCIO",
         "3205726.48"
        ],
        [
         "28",
         null,
         "6825646.17"
        ],
        [
         "29",
         "AUDIO",
         "1628764.74"
        ],
        [
         "30",
         "TECHNICAL BOOKS",
         "672716.88"
        ],
        [
         "31",
         "CONSTRUCTION TOOLS GARDEN",
         "1144649.07"
        ],
        [
         "32",
         "MARKET PLACE",
         "1224069.85"
        ],
        [
         "33",
         "MUSICAL INSTRUMENTS",
         "6293001.26"
        ],
        [
         "34",
         "DRINK FOODS",
         "736822.71"
        ],
        [
         "35",
         "SIGNALIZATION AND SAFETY",
         "1849177.36"
        ],
        [
         "36",
         "FURNITURE KITCHEN SERVICE AREA DINNER AND GARDEN",
         "2015846.46"
        ],
        [
         "37",
         "SONG",
         "186338.61"
        ],
        [
         "38",
         "HOUSE PASTALS OVEN AND CAFE",
         "1383191.65"
        ],
        [
         "39",
         "FIXED TELEPHONY",
         "5589277.01"
        ],
        [
         "40",
         "ROOM FURNITURE",
         "3675746.79"
        ],
        [
         "41",
         "CONSTRUCTION TOOLS TOOLS",
         "568864.89"
        ],
        [
         "42",
         "HOUSE COMFORT",
         "2276884.62"
        ],
        [
         "43",
         "INDUSTRY COMMERCE AND BUSINESS",
         "1532135.52"
        ],
        [
         "44",
         "CONSTRUCTION TOOLS ILLUMINATION",
         "1963236.96"
        ],
        [
         "45",
         "ELECTRICES 2",
         "3363213.45"
        ],
        [
         "46",
         "FASHION CALCADOS",
         "875413.98"
        ],
        [
         "47",
         "FASHION UNDERWEAR AND BEACH FASHION",
         "343292.58"
        ],
        [
         "48",
         "ELECTROSTILE",
         "6090778.26"
        ],
        [
         "49",
         "FOODS",
         "1253574.1"
        ]
       ],
       "shape": {
        "columns": 2,
        "rows": 74
       }
      },
      "text/html": [
       "<div>\n",
       "<style scoped>\n",
       "    .dataframe tbody tr th:only-of-type {\n",
       "        vertical-align: middle;\n",
       "    }\n",
       "\n",
       "    .dataframe tbody tr th {\n",
       "        vertical-align: top;\n",
       "    }\n",
       "\n",
       "    .dataframe thead th {\n",
       "        text-align: right;\n",
       "    }\n",
       "</style>\n",
       "<table border=\"1\" class=\"dataframe\">\n",
       "  <thead>\n",
       "    <tr style=\"text-align: right;\">\n",
       "      <th></th>\n",
       "      <th>Category</th>\n",
       "      <th>Sales</th>\n",
       "    </tr>\n",
       "  </thead>\n",
       "  <tbody>\n",
       "    <tr>\n",
       "      <th>0</th>\n",
       "      <td>PERFUMERY</td>\n",
       "      <td>13681943.82</td>\n",
       "    </tr>\n",
       "    <tr>\n",
       "      <th>1</th>\n",
       "      <td>FURNITURE DECORATION</td>\n",
       "      <td>38614762.58</td>\n",
       "    </tr>\n",
       "    <tr>\n",
       "      <th>2</th>\n",
       "      <td>TELEPHONY</td>\n",
       "      <td>13145815.37</td>\n",
       "    </tr>\n",
       "    <tr>\n",
       "      <th>3</th>\n",
       "      <td>BED TABLE BATH</td>\n",
       "      <td>46238949.12</td>\n",
       "    </tr>\n",
       "    <tr>\n",
       "      <th>4</th>\n",
       "      <td>AUTOMOTIVE</td>\n",
       "      <td>23011946.94</td>\n",
       "    </tr>\n",
       "    <tr>\n",
       "      <th>...</th>\n",
       "      <td>...</td>\n",
       "      <td>...</td>\n",
       "    </tr>\n",
       "    <tr>\n",
       "      <th>69</th>\n",
       "      <td>CDS MUSIC DVDS</td>\n",
       "      <td>32384.61</td>\n",
       "    </tr>\n",
       "    <tr>\n",
       "      <th>70</th>\n",
       "      <td>LA CUISINE</td>\n",
       "      <td>78665.31</td>\n",
       "    </tr>\n",
       "    <tr>\n",
       "      <th>71</th>\n",
       "      <td>FASHION CHILDREN'S CLOTHING</td>\n",
       "      <td>21213.09</td>\n",
       "    </tr>\n",
       "    <tr>\n",
       "      <th>72</th>\n",
       "      <td>PC GAMER</td>\n",
       "      <td>58709.61</td>\n",
       "    </tr>\n",
       "    <tr>\n",
       "      <th>73</th>\n",
       "      <td>INSURANCE AND SERVICES</td>\n",
       "      <td>8761.77</td>\n",
       "    </tr>\n",
       "  </tbody>\n",
       "</table>\n",
       "<p>74 rows × 2 columns</p>\n",
       "</div>"
      ],
      "text/plain": [
       "                       Category        Sales\n",
       "0                     PERFUMERY  13681943.82\n",
       "1          FURNITURE DECORATION  38614762.58\n",
       "2                     TELEPHONY  13145815.37\n",
       "3                BED TABLE BATH  46238949.12\n",
       "4                    AUTOMOTIVE  23011946.94\n",
       "..                          ...          ...\n",
       "69               CDS MUSIC DVDS     32384.61\n",
       "70                   LA CUISINE     78665.31\n",
       "71  FASHION CHILDREN'S CLOTHING     21213.09\n",
       "72                     PC GAMER     58709.61\n",
       "73       INSURANCE AND SERVICES      8761.77\n",
       "\n",
       "[74 rows x 2 columns]"
      ]
     },
     "execution_count": 20,
     "metadata": {},
     "output_type": "execute_result"
    }
   ],
   "source": [
    "query = \"\"\" select upper(products.product_category) category, \n",
    "round(sum(payments.payment_value),2) sales\n",
    "from products join order_items \n",
    "on products.product_id = order_items.product_id\n",
    "join payments \n",
    "on payments.order_id = order_items.order_id\n",
    "group by category\n",
    "\"\"\"\n",
    "\n",
    "cur.execute(query)\n",
    "\n",
    "data = cur.fetchall()\n",
    "\n",
    "df = pd.DataFrame(data, columns = [\"Category\", \"Sales\"])\n",
    "df"
   ]
  },
  {
   "cell_type": "markdown",
   "id": "7b9165aa-4c7c-4c51-803e-f207e2fdaed1",
   "metadata": {},
   "source": [
    "# Calculate the percentage of orders that were paid in installments."
   ]
  },
  {
   "cell_type": "code",
   "execution_count": 21,
   "id": "0dd93b9c-c5d3-4d23-bb11-040269df86b5",
   "metadata": {},
   "outputs": [
    {
     "data": {
      "text/plain": [
       "('the percentage of orders that were paid in installments is',\n",
       " Decimal('99.9981'))"
      ]
     },
     "execution_count": 21,
     "metadata": {},
     "output_type": "execute_result"
    }
   ],
   "source": [
    "query = \"\"\" select ((sum(case when payment_installments >= 1 then 1\n",
    "else 0 end))/count(*))*100 from payments\n",
    "\"\"\"\n",
    "\n",
    "cur.execute(query)\n",
    "\n",
    "data = cur.fetchall()\n",
    "\n",
    "\"the percentage of orders that were paid in installments is\", data[0][0]"
   ]
  },
  {
   "cell_type": "markdown",
   "id": "ddb68924-f9f7-46a5-b3f8-d52030c80fcb",
   "metadata": {},
   "source": [
    "# Count the number of customers from each state. "
   ]
  },
  {
   "cell_type": "code",
   "execution_count": 22,
   "id": "09c695e1-fc3f-4d8c-985a-9c9c17208ee3",
   "metadata": {},
   "outputs": [
    {
     "data": {
      "image/png": "[encoded data removed]",
      "text/plain": [
       "<Figure size 800x300 with 1 Axes>"
      ]
     },
     "metadata": {},
     "output_type": "display_data"
    }
   ],
   "source": [
    "query = \"\"\" select customer_state ,count(customer_id)\n",
    "from customers group by customer_state\n",
    "\"\"\"\n",
    "\n",
    "cur.execute(query)\n",
    "\n",
    "data = cur.fetchall()\n",
    "df = pd.DataFrame(data, columns = [\"state\", \"customer_count\" ])\n",
    "df = df.sort_values(by = \"customer_count\", ascending= False)\n",
    "\n",
    "plt.figure(figsize = (8,3))\n",
    "plt.bar(df[\"state\"], df[\"customer_count\"])\n",
    "plt.xticks(rotation = 90)\n",
    "plt.xlabel(\"states\")\n",
    "plt.ylabel(\"customer_count\")\n",
    "plt.title(\"Count of Customers by States\")\n",
    "plt.show()"
   ]
  },
  {
   "cell_type": "markdown",
   "id": "868919a4-d6c8-40f8-a12c-90cb19920499",
   "metadata": {},
   "source": [
    "# Calculate the number of orders per month in 2018."
   ]
  },
  {
   "cell_type": "code",
   "execution_count": 23,
   "id": "3a247f3e-c242-4dfa-abac-666a88e1b260",
   "metadata": {},
   "outputs": [
    {
     "data": {
      "image/png": "[encoded data removed]",
      "text/plain": [
       "<Figure size 640x480 with 1 Axes>"
      ]
     },
     "metadata": {},
     "output_type": "display_data"
    }
   ],
   "source": [
    "query = \"\"\" select monthname(order_purchase_timestamp) months, count(order_id) order_count\n",
    "from orders where year(order_purchase_timestamp) = 2018\n",
    "group by months\n",
    "\"\"\"\n",
    "\n",
    "cur.execute(query)\n",
    "\n",
    "data = cur.fetchall()\n",
    "df = pd.DataFrame(data, columns = [\"months\", \"order_count\"])\n",
    "o = [\"January\", \"February\",\"March\",\"April\",\"May\",\"June\",\"July\",\"August\",\"September\",\"October\"]\n",
    "\n",
    "ax = sns.barplot(x = df[\"months\"],y =  df[\"order_count\"], data = df, order = o, color = \"red\")\n",
    "plt.xticks(rotation = 45)\n",
    "ax.bar_label(ax.containers[0])\n",
    "plt.title(\"Count of Orders by Months is 2018\")\n",
    "\n",
    "plt.show()"
   ]
  },
  {
   "cell_type": "markdown",
   "id": "871c5808-eeb7-4967-ade6-962cbf404838",
   "metadata": {},
   "source": [
    "# Find the average number of products per order, grouped by customer city."
   ]
  },
  {
   "cell_type": "code",
   "execution_count": 24,
   "id": "0663813b-e9f9-47fc-ba78-b798efce7c69",
   "metadata": {},
   "outputs": [
    {
     "data": {
      "application/vnd.microsoft.datawrangler.viewer.v0+json": {
       "columns": [
        {
         "name": "index",
         "rawType": "int64",
         "type": "integer"
        },
        {
         "name": "customer city",
         "rawType": "object",
         "type": "string"
        },
        {
         "name": "average products/order",
         "rawType": "object",
         "type": "unknown"
        }
       ],
       "ref": "5e8c61a8-d9fc-44f8-9eed-b4f040f68e1c",
       "rows": [
        [
         "0",
         "padre carvalho",
         "63.00"
        ],
        [
         "1",
         "celso ramos",
         "58.50"
        ],
        [
         "2",
         "datas",
         "54.00"
        ],
        [
         "3",
         "candido godoi",
         "54.00"
        ],
        [
         "4",
         "matias olimpio",
         "45.00"
        ],
        [
         "5",
         "cidelandia",
         "36.00"
        ],
        [
         "6",
         "curralinho",
         "36.00"
        ],
        [
         "7",
         "picarra",
         "36.00"
        ],
        [
         "8",
         "morro de sao paulo",
         "36.00"
        ],
        [
         "9",
         "teixeira soares",
         "36.00"
        ]
       ],
       "shape": {
        "columns": 2,
        "rows": 10
       }
      },
      "text/html": [
       "<div>\n",
       "<style scoped>\n",
       "    .dataframe tbody tr th:only-of-type {\n",
       "        vertical-align: middle;\n",
       "    }\n",
       "\n",
       "    .dataframe tbody tr th {\n",
       "        vertical-align: top;\n",
       "    }\n",
       "\n",
       "    .dataframe thead th {\n",
       "        text-align: right;\n",
       "    }\n",
       "</style>\n",
       "<table border=\"1\" class=\"dataframe\">\n",
       "  <thead>\n",
       "    <tr style=\"text-align: right;\">\n",
       "      <th></th>\n",
       "      <th>customer city</th>\n",
       "      <th>average products/order</th>\n",
       "    </tr>\n",
       "  </thead>\n",
       "  <tbody>\n",
       "    <tr>\n",
       "      <th>0</th>\n",
       "      <td>padre carvalho</td>\n",
       "      <td>63.00</td>\n",
       "    </tr>\n",
       "    <tr>\n",
       "      <th>1</th>\n",
       "      <td>celso ramos</td>\n",
       "      <td>58.50</td>\n",
       "    </tr>\n",
       "    <tr>\n",
       "      <th>2</th>\n",
       "      <td>datas</td>\n",
       "      <td>54.00</td>\n",
       "    </tr>\n",
       "    <tr>\n",
       "      <th>3</th>\n",
       "      <td>candido godoi</td>\n",
       "      <td>54.00</td>\n",
       "    </tr>\n",
       "    <tr>\n",
       "      <th>4</th>\n",
       "      <td>matias olimpio</td>\n",
       "      <td>45.00</td>\n",
       "    </tr>\n",
       "    <tr>\n",
       "      <th>5</th>\n",
       "      <td>cidelandia</td>\n",
       "      <td>36.00</td>\n",
       "    </tr>\n",
       "    <tr>\n",
       "      <th>6</th>\n",
       "      <td>curralinho</td>\n",
       "      <td>36.00</td>\n",
       "    </tr>\n",
       "    <tr>\n",
       "      <th>7</th>\n",
       "      <td>picarra</td>\n",
       "      <td>36.00</td>\n",
       "    </tr>\n",
       "    <tr>\n",
       "      <th>8</th>\n",
       "      <td>morro de sao paulo</td>\n",
       "      <td>36.00</td>\n",
       "    </tr>\n",
       "    <tr>\n",
       "      <th>9</th>\n",
       "      <td>teixeira soares</td>\n",
       "      <td>36.00</td>\n",
       "    </tr>\n",
       "  </tbody>\n",
       "</table>\n",
       "</div>"
      ],
      "text/plain": [
       "        customer city average products/order\n",
       "0      padre carvalho                  63.00\n",
       "1         celso ramos                  58.50\n",
       "2               datas                  54.00\n",
       "3       candido godoi                  54.00\n",
       "4      matias olimpio                  45.00\n",
       "5          cidelandia                  36.00\n",
       "6          curralinho                  36.00\n",
       "7             picarra                  36.00\n",
       "8  morro de sao paulo                  36.00\n",
       "9     teixeira soares                  36.00"
      ]
     },
     "execution_count": 24,
     "metadata": {},
     "output_type": "execute_result"
    }
   ],
   "source": [
    "\n",
    "query = \"\"\"with count_per_order as \n",
    "(select orders.order_id, orders.customer_id, count(order_items.order_id) as oc\n",
    "from orders join order_items\n",
    "on orders.order_id = order_items.order_id\n",
    "group by orders.order_id, orders.customer_id)\n",
    "\n",
    "select customers.customer_city, round(avg(count_per_order.oc),2) average_orders\n",
    "from customers join count_per_order\n",
    "on customers.customer_id = count_per_order.customer_id\n",
    "group by customers.customer_city order by average_orders desc\n",
    "\"\"\"\n",
    "\n",
    "cur.execute(query)\n",
    "\n",
    "data = cur.fetchall()\n",
    "df = pd.DataFrame(data,columns = [\"customer city\", \"average products/order\"])\n",
    "df.head(10)"
   ]
  },
  {
   "cell_type": "markdown",
   "id": "bfe91bbb-440f-4068-9d41-c5d30c6cbfe8",
   "metadata": {},
   "source": [
    "# Calculate the percentage of total revenue contributed by each product category."
   ]
  },
  {
   "cell_type": "code",
   "execution_count": 25,
   "id": "3f5b94e2-d9f1-49e7-a8b3-3ebf2a84c311",
   "metadata": {},
   "outputs": [
    {
     "data": {
      "application/vnd.microsoft.datawrangler.viewer.v0+json": {
       "columns": [
        {
         "name": "index",
         "rawType": "int64",
         "type": "integer"
        },
        {
         "name": "Category",
         "rawType": "object",
         "type": "string"
        },
        {
         "name": "percentage distribution",
         "rawType": "float64",
         "type": "float"
        }
       ],
       "ref": "f501fb08-1ea7-41d0-a271-db1e527200df",
       "rows": [
        [
         "0",
         "BED TABLE BATH",
         "96.28"
        ],
        [
         "1",
         "HEALTH BEAUTY",
         "93.18"
        ],
        [
         "2",
         "COMPUTER ACCESSORIES",
         "89.13"
        ],
        [
         "3",
         "FURNITURE DECORATION",
         "80.4"
        ],
        [
         "4",
         "WATCHES PRESENT",
         "80.35"
        ]
       ],
       "shape": {
        "columns": 2,
        "rows": 5
       }
      },
      "text/html": [
       "<div>\n",
       "<style scoped>\n",
       "    .dataframe tbody tr th:only-of-type {\n",
       "        vertical-align: middle;\n",
       "    }\n",
       "\n",
       "    .dataframe tbody tr th {\n",
       "        vertical-align: top;\n",
       "    }\n",
       "\n",
       "    .dataframe thead th {\n",
       "        text-align: right;\n",
       "    }\n",
       "</style>\n",
       "<table border=\"1\" class=\"dataframe\">\n",
       "  <thead>\n",
       "    <tr style=\"text-align: right;\">\n",
       "      <th></th>\n",
       "      <th>Category</th>\n",
       "      <th>percentage distribution</th>\n",
       "    </tr>\n",
       "  </thead>\n",
       "  <tbody>\n",
       "    <tr>\n",
       "      <th>0</th>\n",
       "      <td>BED TABLE BATH</td>\n",
       "      <td>96.28</td>\n",
       "    </tr>\n",
       "    <tr>\n",
       "      <th>1</th>\n",
       "      <td>HEALTH BEAUTY</td>\n",
       "      <td>93.18</td>\n",
       "    </tr>\n",
       "    <tr>\n",
       "      <th>2</th>\n",
       "      <td>COMPUTER ACCESSORIES</td>\n",
       "      <td>89.13</td>\n",
       "    </tr>\n",
       "    <tr>\n",
       "      <th>3</th>\n",
       "      <td>FURNITURE DECORATION</td>\n",
       "      <td>80.40</td>\n",
       "    </tr>\n",
       "    <tr>\n",
       "      <th>4</th>\n",
       "      <td>WATCHES PRESENT</td>\n",
       "      <td>80.35</td>\n",
       "    </tr>\n",
       "  </tbody>\n",
       "</table>\n",
       "</div>"
      ],
      "text/plain": [
       "               Category  percentage distribution\n",
       "0        BED TABLE BATH                    96.28\n",
       "1         HEALTH BEAUTY                    93.18\n",
       "2  COMPUTER ACCESSORIES                    89.13\n",
       "3  FURNITURE DECORATION                    80.40\n",
       "4       WATCHES PRESENT                    80.35"
      ]
     },
     "execution_count": 25,
     "metadata": {},
     "output_type": "execute_result"
    }
   ],
   "source": [
    "query = \"\"\"select upper(products.product_category) category, \n",
    "round((sum(payments.payment_value)/(select sum(payment_value) from payments))*100,2) sales_percentage\n",
    "from products join order_items \n",
    "on products.product_id = order_items.product_id\n",
    "join payments \n",
    "on payments.order_id = order_items.order_id\n",
    "group by category order by sales_percentage desc\"\"\"\n",
    "\n",
    "\n",
    "cur.execute(query)\n",
    "data = cur.fetchall()\n",
    "df = pd.DataFrame(data,columns = [\"Category\", \"percentage distribution\"])\n",
    "df.head()"
   ]
  },
  {
   "cell_type": "markdown",
   "id": "cf019dfd-b20b-40d4-819a-02c725bdc1c9",
   "metadata": {},
   "source": [
    "# Identify the correlation between product price and the number of times a product has been purchased."
   ]
  },
  {
   "cell_type": "code",
   "execution_count": 26,
   "id": "3dc4c0b3",
   "metadata": {},
   "outputs": [
    {
     "name": "stdout",
     "output_type": "stream",
     "text": [
      "                             seller_id       revenue  rank\n",
      "0     7c67e1448b00f6e969d365cea6b010ab  4.564502e+06     1\n",
      "1     1025f0e2d44d7041d6cf58b6550e0bfa  2.773998e+06     2\n",
      "2     4a3ca9315b744ce9f8e9374361493884  2.711207e+06     3\n",
      "3     1f50f920176fa81dab994f9023523100  2.612281e+06     4\n",
      "4     53243585a1d6dc2643021fd1853d8905  2.564128e+06     5\n",
      "...                                ...           ...   ...\n",
      "3090  ad14615bdd492b01b0d97922e87cb87f  1.728900e+02  3082\n",
      "3091  702835e4b785b67a084280efca355756  1.670400e+02  3083\n",
      "3092  4965a7002cca77301c82d3f91b82e1a9  1.472400e+02  3084\n",
      "3093  77128dec4bec4878c37ab7d6169d6f26  1.369800e+02  3085\n",
      "3094  cf6f6bc4df3999b9c6440f124fb2f687  1.099800e+02  3086\n",
      "\n",
      "[3095 rows x 3 columns]\n"
     ]
    }
   ],
   "source": [
    "query = \"\"\" \n",
    "SELECT *, \n",
    "       DENSE_RANK() OVER (ORDER BY revenue DESC) \n",
    "FROM (\n",
    "    SELECT order_items.seller_id, \n",
    "           SUM(payments.payment_value) AS revenue \n",
    "    FROM order_items \n",
    "    JOIN payments ON order_items.order_id = payments.order_id \n",
    "    GROUP BY order_items.seller_id\n",
    ") AS a\n",
    "\"\"\"\n",
    "\n",
    "cur.execute(query)\n",
    "data = cur.fetchall()\n",
    "\n",
    "df = pd.DataFrame(data, columns=[\"seller_id\", \"revenue\", \"rank\"])\n",
    "print(df)\n",
    "\n",
    "\n"
   ]
  },
  {
   "cell_type": "markdown",
   "id": "7d695c4f-e827-4314-83b1-6f2ecd16fe9b",
   "metadata": {},
   "source": [
    "# Calculate the total revenue generated by each seller, and rank them by revenue."
   ]
  },
  {
   "cell_type": "code",
   "execution_count": 27,
   "id": "960baaa6-fc72-4e7a-932c-a0dc630b3ffd",
   "metadata": {},
   "outputs": [
    {
     "data": {
      "image/png": "[encoded data removed]",
      "text/plain": [
       "<Figure size 640x480 with 1 Axes>"
      ]
     },
     "metadata": {},
     "output_type": "display_data"
    }
   ],
   "source": [
    "query = \"\"\" select *, dense_rank() over(order by revenue desc) as rn from\n",
    "(select order_items.seller_id, sum(payments.payment_value)\n",
    "revenue from order_items join payments\n",
    "on order_items.order_id = payments.order_id\n",
    "group by order_items.seller_id) as a \"\"\"\n",
    "\n",
    "cur.execute(query)\n",
    "data = cur.fetchall()\n",
    "df = pd.DataFrame(data, columns = [\"seller_id\", \"revenue\", \"rank\"])\n",
    "df = df.head()\n",
    "sns.barplot(x = \"seller_id\", y = \"revenue\", data = df)\n",
    "plt.xticks(rotation = 90)\n",
    "plt.show()"
   ]
  },
  {
   "cell_type": "markdown",
   "id": "2eeb8570-fa56-464b-ba8c-9b320848458d",
   "metadata": {},
   "source": [
    "# Calculate the moving average of order values for each customer over their order history."
   ]
  },
  {
   "cell_type": "code",
   "execution_count": 28,
   "id": "a89c04da-039f-4085-ba94-7c3d97c88c39",
   "metadata": {},
   "outputs": [
    {
     "data": {
      "application/vnd.microsoft.datawrangler.viewer.v0+json": {
       "columns": [
        {
         "name": "index",
         "rawType": "int64",
         "type": "integer"
        },
        {
         "name": "0",
         "rawType": "object",
         "type": "string"
        },
        {
         "name": "1",
         "rawType": "object",
         "type": "string"
        },
        {
         "name": "2",
         "rawType": "float64",
         "type": "float"
        },
        {
         "name": "3",
         "rawType": "float64",
         "type": "float"
        }
       ],
       "ref": "42437d12-83e7-47f7-a25b-ec47228de3e6",
       "rows": [
        [
         "0",
         "00012a2ce6f8dcda20d059ce98491703",
         "2017-11-14 16:08:26",
         "114.74",
         "114.73999786376953"
        ],
        [
         "1",
         "00012a2ce6f8dcda20d059ce98491703",
         "2017-11-14 16:08:26",
         "114.74",
         "114.73999786376953"
        ],
        [
         "2",
         "00012a2ce6f8dcda20d059ce98491703",
         "2017-11-14 16:08:26",
         "114.74",
         "114.73999786376953"
        ],
        [
         "3",
         "00012a2ce6f8dcda20d059ce98491703",
         "2017-11-14 16:08:26",
         "114.74",
         "114.73999786376953"
        ],
        [
         "4",
         "00012a2ce6f8dcda20d059ce98491703",
         "2017-11-14 16:08:26",
         "114.74",
         "114.73999786376953"
        ],
        [
         "5",
         "00012a2ce6f8dcda20d059ce98491703",
         "2017-11-14 16:08:26",
         "114.74",
         "114.73999786376953"
        ],
        [
         "6",
         "00012a2ce6f8dcda20d059ce98491703",
         "2017-11-14 16:08:26",
         "114.74",
         "114.73999786376953"
        ],
        [
         "7",
         "00012a2ce6f8dcda20d059ce98491703",
         "2017-11-14 16:08:26",
         "114.74",
         "114.73999786376953"
        ],
        [
         "8",
         "00012a2ce6f8dcda20d059ce98491703",
         "2017-11-14 16:08:26",
         "114.74",
         "114.73999786376953"
        ],
        [
         "9",
         "000161a058600d5901f007fab4c27140",
         "2017-07-16 09:40:32",
         "67.41",
         "67.41000366210938"
        ],
        [
         "10",
         "000161a058600d5901f007fab4c27140",
         "2017-07-16 09:40:32",
         "67.41",
         "67.41000366210938"
        ],
        [
         "11",
         "000161a058600d5901f007fab4c27140",
         "2017-07-16 09:40:32",
         "67.41",
         "67.41000366210938"
        ],
        [
         "12",
         "000161a058600d5901f007fab4c27140",
         "2017-07-16 09:40:32",
         "67.41",
         "67.41000366210938"
        ],
        [
         "13",
         "000161a058600d5901f007fab4c27140",
         "2017-07-16 09:40:32",
         "67.41",
         "67.41000366210938"
        ],
        [
         "14",
         "000161a058600d5901f007fab4c27140",
         "2017-07-16 09:40:32",
         "67.41",
         "67.41000366210938"
        ],
        [
         "15",
         "000161a058600d5901f007fab4c27140",
         "2017-07-16 09:40:32",
         "67.41",
         "67.41000366210938"
        ],
        [
         "16",
         "000161a058600d5901f007fab4c27140",
         "2017-07-16 09:40:32",
         "67.41",
         "67.41000366210938"
        ],
        [
         "17",
         "000161a058600d5901f007fab4c27140",
         "2017-07-16 09:40:32",
         "67.41",
         "67.41000366210938"
        ],
        [
         "18",
         "0001fd6190edaaf884bcaf3d49edf079",
         "2017-02-28 11:06:43",
         "195.42",
         "195.4199981689453"
        ],
        [
         "19",
         "0001fd6190edaaf884bcaf3d49edf079",
         "2017-02-28 11:06:43",
         "195.42",
         "195.4199981689453"
        ],
        [
         "20",
         "0001fd6190edaaf884bcaf3d49edf079",
         "2017-02-28 11:06:43",
         "195.42",
         "195.4199981689453"
        ],
        [
         "21",
         "0001fd6190edaaf884bcaf3d49edf079",
         "2017-02-28 11:06:43",
         "195.42",
         "195.4199981689453"
        ],
        [
         "22",
         "0001fd6190edaaf884bcaf3d49edf079",
         "2017-02-28 11:06:43",
         "195.42",
         "195.4199981689453"
        ],
        [
         "23",
         "0001fd6190edaaf884bcaf3d49edf079",
         "2017-02-28 11:06:43",
         "195.42",
         "195.4199981689453"
        ],
        [
         "24",
         "0001fd6190edaaf884bcaf3d49edf079",
         "2017-02-28 11:06:43",
         "195.42",
         "195.4199981689453"
        ],
        [
         "25",
         "0001fd6190edaaf884bcaf3d49edf079",
         "2017-02-28 11:06:43",
         "195.42",
         "195.4199981689453"
        ],
        [
         "26",
         "0001fd6190edaaf884bcaf3d49edf079",
         "2017-02-28 11:06:43",
         "195.42",
         "195.4199981689453"
        ],
        [
         "27",
         "0002414f95344307404f0ace7a26f1d5",
         "2017-08-16 13:09:20",
         "179.35",
         "179.35000610351562"
        ],
        [
         "28",
         "0002414f95344307404f0ace7a26f1d5",
         "2017-08-16 13:09:20",
         "179.35",
         "179.35000610351562"
        ],
        [
         "29",
         "0002414f95344307404f0ace7a26f1d5",
         "2017-08-16 13:09:20",
         "179.35",
         "179.35000610351562"
        ],
        [
         "30",
         "0002414f95344307404f0ace7a26f1d5",
         "2017-08-16 13:09:20",
         "179.35",
         "179.35000610351562"
        ],
        [
         "31",
         "0002414f95344307404f0ace7a26f1d5",
         "2017-08-16 13:09:20",
         "179.35",
         "179.35000610351562"
        ],
        [
         "32",
         "0002414f95344307404f0ace7a26f1d5",
         "2017-08-16 13:09:20",
         "179.35",
         "179.35000610351562"
        ],
        [
         "33",
         "0002414f95344307404f0ace7a26f1d5",
         "2017-08-16 13:09:20",
         "179.35",
         "179.35000610351562"
        ],
        [
         "34",
         "0002414f95344307404f0ace7a26f1d5",
         "2017-08-16 13:09:20",
         "179.35",
         "179.35000610351562"
        ],
        [
         "35",
         "0002414f95344307404f0ace7a26f1d5",
         "2017-08-16 13:09:20",
         "179.35",
         "179.35000610351562"
        ],
        [
         "36",
         "000379cdec625522490c315e70c7a9fb",
         "2018-04-02 13:42:17",
         "107.01",
         "107.01000213623047"
        ],
        [
         "37",
         "000379cdec625522490c315e70c7a9fb",
         "2018-04-02 13:42:17",
         "107.01",
         "107.01000213623047"
        ],
        [
         "38",
         "000379cdec625522490c315e70c7a9fb",
         "2018-04-02 13:42:17",
         "107.01",
         "107.01000213623047"
        ],
        [
         "39",
         "000379cdec625522490c315e70c7a9fb",
         "2018-04-02 13:42:17",
         "107.01",
         "107.01000213623047"
        ],
        [
         "40",
         "000379cdec625522490c315e70c7a9fb",
         "2018-04-02 13:42:17",
         "107.01",
         "107.01000213623047"
        ],
        [
         "41",
         "000379cdec625522490c315e70c7a9fb",
         "2018-04-02 13:42:17",
         "107.01",
         "107.01000213623047"
        ],
        [
         "42",
         "000379cdec625522490c315e70c7a9fb",
         "2018-04-02 13:42:17",
         "107.01",
         "107.01000213623047"
        ],
        [
         "43",
         "000379cdec625522490c315e70c7a9fb",
         "2018-04-02 13:42:17",
         "107.01",
         "107.01000213623047"
        ],
        [
         "44",
         "000379cdec625522490c315e70c7a9fb",
         "2018-04-02 13:42:17",
         "107.01",
         "107.01000213623047"
        ],
        [
         "45",
         "0004164d20a9e969af783496f3408652",
         "2017-04-12 08:35:12",
         "71.8",
         "71.80000305175781"
        ],
        [
         "46",
         "0004164d20a9e969af783496f3408652",
         "2017-04-12 08:35:12",
         "71.8",
         "71.80000305175781"
        ],
        [
         "47",
         "0004164d20a9e969af783496f3408652",
         "2017-04-12 08:35:12",
         "71.8",
         "71.80000305175781"
        ],
        [
         "48",
         "0004164d20a9e969af783496f3408652",
         "2017-04-12 08:35:12",
         "71.8",
         "71.80000305175781"
        ],
        [
         "49",
         "0004164d20a9e969af783496f3408652",
         "2017-04-12 08:35:12",
         "71.8",
         "71.80000305175781"
        ]
       ],
       "shape": {
        "columns": 4,
        "rows": 934974
       }
      },
      "text/html": [
       "<div>\n",
       "<style scoped>\n",
       "    .dataframe tbody tr th:only-of-type {\n",
       "        vertical-align: middle;\n",
       "    }\n",
       "\n",
       "    .dataframe tbody tr th {\n",
       "        vertical-align: top;\n",
       "    }\n",
       "\n",
       "    .dataframe thead th {\n",
       "        text-align: right;\n",
       "    }\n",
       "</style>\n",
       "<table border=\"1\" class=\"dataframe\">\n",
       "  <thead>\n",
       "    <tr style=\"text-align: right;\">\n",
       "      <th></th>\n",
       "      <th>0</th>\n",
       "      <th>1</th>\n",
       "      <th>2</th>\n",
       "      <th>3</th>\n",
       "    </tr>\n",
       "  </thead>\n",
       "  <tbody>\n",
       "    <tr>\n",
       "      <th>0</th>\n",
       "      <td>00012a2ce6f8dcda20d059ce98491703</td>\n",
       "      <td>2017-11-14 16:08:26</td>\n",
       "      <td>114.74</td>\n",
       "      <td>114.739998</td>\n",
       "    </tr>\n",
       "    <tr>\n",
       "      <th>1</th>\n",
       "      <td>00012a2ce6f8dcda20d059ce98491703</td>\n",
       "      <td>2017-11-14 16:08:26</td>\n",
       "      <td>114.74</td>\n",
       "      <td>114.739998</td>\n",
       "    </tr>\n",
       "    <tr>\n",
       "      <th>2</th>\n",
       "      <td>00012a2ce6f8dcda20d059ce98491703</td>\n",
       "      <td>2017-11-14 16:08:26</td>\n",
       "      <td>114.74</td>\n",
       "      <td>114.739998</td>\n",
       "    </tr>\n",
       "    <tr>\n",
       "      <th>3</th>\n",
       "      <td>00012a2ce6f8dcda20d059ce98491703</td>\n",
       "      <td>2017-11-14 16:08:26</td>\n",
       "      <td>114.74</td>\n",
       "      <td>114.739998</td>\n",
       "    </tr>\n",
       "    <tr>\n",
       "      <th>4</th>\n",
       "      <td>00012a2ce6f8dcda20d059ce98491703</td>\n",
       "      <td>2017-11-14 16:08:26</td>\n",
       "      <td>114.74</td>\n",
       "      <td>114.739998</td>\n",
       "    </tr>\n",
       "    <tr>\n",
       "      <th>...</th>\n",
       "      <td>...</td>\n",
       "      <td>...</td>\n",
       "      <td>...</td>\n",
       "      <td>...</td>\n",
       "    </tr>\n",
       "    <tr>\n",
       "      <th>934969</th>\n",
       "      <td>ffffe8b65bbe3087b653a978c870db99</td>\n",
       "      <td>2017-09-29 14:07:03</td>\n",
       "      <td>18.37</td>\n",
       "      <td>18.370001</td>\n",
       "    </tr>\n",
       "    <tr>\n",
       "      <th>934970</th>\n",
       "      <td>ffffe8b65bbe3087b653a978c870db99</td>\n",
       "      <td>2017-09-29 14:07:03</td>\n",
       "      <td>18.37</td>\n",
       "      <td>18.370001</td>\n",
       "    </tr>\n",
       "    <tr>\n",
       "      <th>934971</th>\n",
       "      <td>ffffe8b65bbe3087b653a978c870db99</td>\n",
       "      <td>2017-09-29 14:07:03</td>\n",
       "      <td>18.37</td>\n",
       "      <td>18.370001</td>\n",
       "    </tr>\n",
       "    <tr>\n",
       "      <th>934972</th>\n",
       "      <td>ffffe8b65bbe3087b653a978c870db99</td>\n",
       "      <td>2017-09-29 14:07:03</td>\n",
       "      <td>18.37</td>\n",
       "      <td>18.370001</td>\n",
       "    </tr>\n",
       "    <tr>\n",
       "      <th>934973</th>\n",
       "      <td>ffffe8b65bbe3087b653a978c870db99</td>\n",
       "      <td>2017-09-29 14:07:03</td>\n",
       "      <td>18.37</td>\n",
       "      <td>18.370001</td>\n",
       "    </tr>\n",
       "  </tbody>\n",
       "</table>\n",
       "<p>934974 rows × 4 columns</p>\n",
       "</div>"
      ],
      "text/plain": [
       "                                       0                    1       2  \\\n",
       "0       00012a2ce6f8dcda20d059ce98491703  2017-11-14 16:08:26  114.74   \n",
       "1       00012a2ce6f8dcda20d059ce98491703  2017-11-14 16:08:26  114.74   \n",
       "2       00012a2ce6f8dcda20d059ce98491703  2017-11-14 16:08:26  114.74   \n",
       "3       00012a2ce6f8dcda20d059ce98491703  2017-11-14 16:08:26  114.74   \n",
       "4       00012a2ce6f8dcda20d059ce98491703  2017-11-14 16:08:26  114.74   \n",
       "...                                  ...                  ...     ...   \n",
       "934969  ffffe8b65bbe3087b653a978c870db99  2017-09-29 14:07:03   18.37   \n",
       "934970  ffffe8b65bbe3087b653a978c870db99  2017-09-29 14:07:03   18.37   \n",
       "934971  ffffe8b65bbe3087b653a978c870db99  2017-09-29 14:07:03   18.37   \n",
       "934972  ffffe8b65bbe3087b653a978c870db99  2017-09-29 14:07:03   18.37   \n",
       "934973  ffffe8b65bbe3087b653a978c870db99  2017-09-29 14:07:03   18.37   \n",
       "\n",
       "                 3  \n",
       "0       114.739998  \n",
       "1       114.739998  \n",
       "2       114.739998  \n",
       "3       114.739998  \n",
       "4       114.739998  \n",
       "...            ...  \n",
       "934969   18.370001  \n",
       "934970   18.370001  \n",
       "934971   18.370001  \n",
       "934972   18.370001  \n",
       "934973   18.370001  \n",
       "\n",
       "[934974 rows x 4 columns]"
      ]
     },
     "execution_count": 28,
     "metadata": {},
     "output_type": "execute_result"
    }
   ],
   "source": [
    "query = \"\"\"select customer_id, order_purchase_timestamp, payment,\n",
    "avg(payment) over(partition by customer_id order by order_purchase_timestamp\n",
    "rows between 2 preceding and current row) as mov_avg\n",
    "from\n",
    "(select orders.customer_id, orders.order_purchase_timestamp, \n",
    "payments.payment_value as payment\n",
    "from payments join orders\n",
    "on payments.order_id = orders.order_id) as a\"\"\"\n",
    "cur.execute(query)\n",
    "data = cur.fetchall()\n",
    "df = pd.DataFrame(data)\n",
    "df\n",
    "\n"
   ]
  },
  {
   "cell_type": "markdown",
   "id": "05c9a0fd-e51c-4fdb-b162-013c0d172dc7",
   "metadata": {},
   "source": [
    "#  Calculate the cumulative sales per month for each year."
   ]
  },
  {
   "cell_type": "code",
   "execution_count": 29,
   "id": "f5d19036-95eb-4beb-97ec-761870a9b369",
   "metadata": {},
   "outputs": [
    {
     "data": {
      "application/vnd.microsoft.datawrangler.viewer.v0+json": {
       "columns": [
        {
         "name": "index",
         "rawType": "int64",
         "type": "integer"
        },
        {
         "name": "0",
         "rawType": "int64",
         "type": "integer"
        },
        {
         "name": "1",
         "rawType": "int64",
         "type": "integer"
        },
        {
         "name": "2",
         "rawType": "float64",
         "type": "float"
        },
        {
         "name": "3",
         "rawType": "float64",
         "type": "float"
        }
       ],
       "ref": "d00be6c4-ae33-4d15-b373-0542fde515fe",
       "rows": [
        [
         "0",
         "2016",
         "9",
         "2270.16",
         "2270.16"
        ],
        [
         "1",
         "2016",
         "10",
         "531814.32",
         "534084.48"
        ],
        [
         "2",
         "2016",
         "12",
         "176.58",
         "534261.0599999999"
        ],
        [
         "3",
         "2017",
         "1",
         "1246392.36",
         "1780653.42"
        ],
        [
         "4",
         "2017",
         "2",
         "2627172.09",
         "4407825.51"
        ],
        [
         "5",
         "2017",
         "3",
         "4048772.4",
         "8456597.91"
        ],
        [
         "6",
         "2017",
         "4",
         "3760092.27",
         "12216690.18"
        ],
        [
         "7",
         "2017",
         "5",
         "5336269.38",
         "17552959.56"
        ],
        [
         "8",
         "2017",
         "6",
         "4601487.42",
         "22154446.979999997"
        ],
        [
         "9",
         "2017",
         "7",
         "5331446.28",
         "27485893.259999998"
        ],
        [
         "10",
         "2017",
         "8",
         "6069566.88",
         "33555460.14"
        ],
        [
         "11",
         "2017",
         "9",
         "6549862.05",
         "40105322.19"
        ],
        [
         "12",
         "2017",
         "10",
         "7017100.92",
         "47122423.11"
        ],
        [
         "13",
         "2017",
         "11",
         "10753945.2",
         "57876368.31"
        ],
        [
         "14",
         "2017",
         "12",
         "7905613.32",
         "65781981.63"
        ],
        [
         "15",
         "2018",
         "1",
         "10035037.61",
         "75817019.24000001"
        ],
        [
         "16",
         "2018",
         "2",
         "8932170.06",
         "84749189.30000001"
        ],
        [
         "17",
         "2018",
         "3",
         "10436869.08",
         "95186058.38000001"
        ],
        [
         "18",
         "2018",
         "4",
         "10447069.33",
         "105633127.71000001"
        ],
        [
         "19",
         "2018",
         "5",
         "10385839.36",
         "116018967.07000001"
        ],
        [
         "20",
         "2018",
         "6",
         "9214924.51",
         "125233891.58000001"
        ],
        [
         "21",
         "2018",
         "7",
         "9598866.74",
         "134832758.32000002"
        ],
        [
         "22",
         "2018",
         "8",
         "9201827.89",
         "144034586.21000004"
        ],
        [
         "23",
         "2018",
         "9",
         "39955.86",
         "144074542.07000005"
        ],
        [
         "24",
         "2018",
         "10",
         "5307.03",
         "144079849.10000005"
        ]
       ],
       "shape": {
        "columns": 4,
        "rows": 25
       }
      },
      "text/html": [
       "<div>\n",
       "<style scoped>\n",
       "    .dataframe tbody tr th:only-of-type {\n",
       "        vertical-align: middle;\n",
       "    }\n",
       "\n",
       "    .dataframe tbody tr th {\n",
       "        vertical-align: top;\n",
       "    }\n",
       "\n",
       "    .dataframe thead th {\n",
       "        text-align: right;\n",
       "    }\n",
       "</style>\n",
       "<table border=\"1\" class=\"dataframe\">\n",
       "  <thead>\n",
       "    <tr style=\"text-align: right;\">\n",
       "      <th></th>\n",
       "      <th>0</th>\n",
       "      <th>1</th>\n",
       "      <th>2</th>\n",
       "      <th>3</th>\n",
       "    </tr>\n",
       "  </thead>\n",
       "  <tbody>\n",
       "    <tr>\n",
       "      <th>0</th>\n",
       "      <td>2016</td>\n",
       "      <td>9</td>\n",
       "      <td>2270.16</td>\n",
       "      <td>2.270160e+03</td>\n",
       "    </tr>\n",
       "    <tr>\n",
       "      <th>1</th>\n",
       "      <td>2016</td>\n",
       "      <td>10</td>\n",
       "      <td>531814.32</td>\n",
       "      <td>5.340845e+05</td>\n",
       "    </tr>\n",
       "    <tr>\n",
       "      <th>2</th>\n",
       "      <td>2016</td>\n",
       "      <td>12</td>\n",
       "      <td>176.58</td>\n",
       "      <td>5.342611e+05</td>\n",
       "    </tr>\n",
       "    <tr>\n",
       "      <th>3</th>\n",
       "      <td>2017</td>\n",
       "      <td>1</td>\n",
       "      <td>1246392.36</td>\n",
       "      <td>1.780653e+06</td>\n",
       "    </tr>\n",
       "    <tr>\n",
       "      <th>4</th>\n",
       "      <td>2017</td>\n",
       "      <td>2</td>\n",
       "      <td>2627172.09</td>\n",
       "      <td>4.407826e+06</td>\n",
       "    </tr>\n",
       "    <tr>\n",
       "      <th>5</th>\n",
       "      <td>2017</td>\n",
       "      <td>3</td>\n",
       "      <td>4048772.40</td>\n",
       "      <td>8.456598e+06</td>\n",
       "    </tr>\n",
       "    <tr>\n",
       "      <th>6</th>\n",
       "      <td>2017</td>\n",
       "      <td>4</td>\n",
       "      <td>3760092.27</td>\n",
       "      <td>1.221669e+07</td>\n",
       "    </tr>\n",
       "    <tr>\n",
       "      <th>7</th>\n",
       "      <td>2017</td>\n",
       "      <td>5</td>\n",
       "      <td>5336269.38</td>\n",
       "      <td>1.755296e+07</td>\n",
       "    </tr>\n",
       "    <tr>\n",
       "      <th>8</th>\n",
       "      <td>2017</td>\n",
       "      <td>6</td>\n",
       "      <td>4601487.42</td>\n",
       "      <td>2.215445e+07</td>\n",
       "    </tr>\n",
       "    <tr>\n",
       "      <th>9</th>\n",
       "      <td>2017</td>\n",
       "      <td>7</td>\n",
       "      <td>5331446.28</td>\n",
       "      <td>2.748589e+07</td>\n",
       "    </tr>\n",
       "    <tr>\n",
       "      <th>10</th>\n",
       "      <td>2017</td>\n",
       "      <td>8</td>\n",
       "      <td>6069566.88</td>\n",
       "      <td>3.355546e+07</td>\n",
       "    </tr>\n",
       "    <tr>\n",
       "      <th>11</th>\n",
       "      <td>2017</td>\n",
       "      <td>9</td>\n",
       "      <td>6549862.05</td>\n",
       "      <td>4.010532e+07</td>\n",
       "    </tr>\n",
       "    <tr>\n",
       "      <th>12</th>\n",
       "      <td>2017</td>\n",
       "      <td>10</td>\n",
       "      <td>7017100.92</td>\n",
       "      <td>4.712242e+07</td>\n",
       "    </tr>\n",
       "    <tr>\n",
       "      <th>13</th>\n",
       "      <td>2017</td>\n",
       "      <td>11</td>\n",
       "      <td>10753945.20</td>\n",
       "      <td>5.787637e+07</td>\n",
       "    </tr>\n",
       "    <tr>\n",
       "      <th>14</th>\n",
       "      <td>2017</td>\n",
       "      <td>12</td>\n",
       "      <td>7905613.32</td>\n",
       "      <td>6.578198e+07</td>\n",
       "    </tr>\n",
       "    <tr>\n",
       "      <th>15</th>\n",
       "      <td>2018</td>\n",
       "      <td>1</td>\n",
       "      <td>10035037.61</td>\n",
       "      <td>7.581702e+07</td>\n",
       "    </tr>\n",
       "    <tr>\n",
       "      <th>16</th>\n",
       "      <td>2018</td>\n",
       "      <td>2</td>\n",
       "      <td>8932170.06</td>\n",
       "      <td>8.474919e+07</td>\n",
       "    </tr>\n",
       "    <tr>\n",
       "      <th>17</th>\n",
       "      <td>2018</td>\n",
       "      <td>3</td>\n",
       "      <td>10436869.08</td>\n",
       "      <td>9.518606e+07</td>\n",
       "    </tr>\n",
       "    <tr>\n",
       "      <th>18</th>\n",
       "      <td>2018</td>\n",
       "      <td>4</td>\n",
       "      <td>10447069.33</td>\n",
       "      <td>1.056331e+08</td>\n",
       "    </tr>\n",
       "    <tr>\n",
       "      <th>19</th>\n",
       "      <td>2018</td>\n",
       "      <td>5</td>\n",
       "      <td>10385839.36</td>\n",
       "      <td>1.160190e+08</td>\n",
       "    </tr>\n",
       "    <tr>\n",
       "      <th>20</th>\n",
       "      <td>2018</td>\n",
       "      <td>6</td>\n",
       "      <td>9214924.51</td>\n",
       "      <td>1.252339e+08</td>\n",
       "    </tr>\n",
       "    <tr>\n",
       "      <th>21</th>\n",
       "      <td>2018</td>\n",
       "      <td>7</td>\n",
       "      <td>9598866.74</td>\n",
       "      <td>1.348328e+08</td>\n",
       "    </tr>\n",
       "    <tr>\n",
       "      <th>22</th>\n",
       "      <td>2018</td>\n",
       "      <td>8</td>\n",
       "      <td>9201827.89</td>\n",
       "      <td>1.440346e+08</td>\n",
       "    </tr>\n",
       "    <tr>\n",
       "      <th>23</th>\n",
       "      <td>2018</td>\n",
       "      <td>9</td>\n",
       "      <td>39955.86</td>\n",
       "      <td>1.440745e+08</td>\n",
       "    </tr>\n",
       "    <tr>\n",
       "      <th>24</th>\n",
       "      <td>2018</td>\n",
       "      <td>10</td>\n",
       "      <td>5307.03</td>\n",
       "      <td>1.440798e+08</td>\n",
       "    </tr>\n",
       "  </tbody>\n",
       "</table>\n",
       "</div>"
      ],
      "text/plain": [
       "       0   1            2             3\n",
       "0   2016   9      2270.16  2.270160e+03\n",
       "1   2016  10    531814.32  5.340845e+05\n",
       "2   2016  12       176.58  5.342611e+05\n",
       "3   2017   1   1246392.36  1.780653e+06\n",
       "4   2017   2   2627172.09  4.407826e+06\n",
       "5   2017   3   4048772.40  8.456598e+06\n",
       "6   2017   4   3760092.27  1.221669e+07\n",
       "7   2017   5   5336269.38  1.755296e+07\n",
       "8   2017   6   4601487.42  2.215445e+07\n",
       "9   2017   7   5331446.28  2.748589e+07\n",
       "10  2017   8   6069566.88  3.355546e+07\n",
       "11  2017   9   6549862.05  4.010532e+07\n",
       "12  2017  10   7017100.92  4.712242e+07\n",
       "13  2017  11  10753945.20  5.787637e+07\n",
       "14  2017  12   7905613.32  6.578198e+07\n",
       "15  2018   1  10035037.61  7.581702e+07\n",
       "16  2018   2   8932170.06  8.474919e+07\n",
       "17  2018   3  10436869.08  9.518606e+07\n",
       "18  2018   4  10447069.33  1.056331e+08\n",
       "19  2018   5  10385839.36  1.160190e+08\n",
       "20  2018   6   9214924.51  1.252339e+08\n",
       "21  2018   7   9598866.74  1.348328e+08\n",
       "22  2018   8   9201827.89  1.440346e+08\n",
       "23  2018   9     39955.86  1.440745e+08\n",
       "24  2018  10      5307.03  1.440798e+08"
      ]
     },
     "execution_count": 29,
     "metadata": {},
     "output_type": "execute_result"
    }
   ],
   "source": [
    "query = \"\"\"select years, months , payment, sum(payment)\n",
    "over(order by years, months) cumulative_sales from \n",
    "(select year(orders.order_purchase_timestamp) as years,\n",
    "month(orders.order_purchase_timestamp) as months,\n",
    "round(sum(payments.payment_value),2) as payment from orders join payments\n",
    "on orders.order_id = payments.order_id\n",
    "group by years, months order by years, months) as a\n",
    "\"\"\"\n",
    "cur.execute(query)\n",
    "data = cur.fetchall()\n",
    "df = pd.DataFrame(data)\n",
    "df\n",
    "\n"
   ]
  },
  {
   "cell_type": "markdown",
   "id": "206f2f25-474c-433e-960b-eb7f6c7ae16a",
   "metadata": {},
   "source": [
    "# Calculate the year-over-year growth rate of total sales."
   ]
  },
  {
   "cell_type": "code",
   "execution_count": 30,
   "id": "655418a7-a205-4f2f-a35d-e70d2942a624",
   "metadata": {},
   "outputs": [
    {
     "data": {
      "application/vnd.microsoft.datawrangler.viewer.v0+json": {
       "columns": [
        {
         "name": "index",
         "rawType": "int64",
         "type": "integer"
        },
        {
         "name": "years",
         "rawType": "int64",
         "type": "integer"
        },
        {
         "name": "yoy % growth",
         "rawType": "float64",
         "type": "float"
        }
       ],
       "ref": "e29aa41a-3f6f-44f4-8c52-aa792624d88e",
       "rows": [
        [
         "0",
         "2016",
         null
        ],
        [
         "1",
         "2017",
         "12112.703757597454"
        ],
        [
         "2",
         "2018",
         "20.00092387901818"
        ]
       ],
       "shape": {
        "columns": 2,
        "rows": 3
       }
      },
      "text/html": [
       "<div>\n",
       "<style scoped>\n",
       "    .dataframe tbody tr th:only-of-type {\n",
       "        vertical-align: middle;\n",
       "    }\n",
       "\n",
       "    .dataframe tbody tr th {\n",
       "        vertical-align: top;\n",
       "    }\n",
       "\n",
       "    .dataframe thead th {\n",
       "        text-align: right;\n",
       "    }\n",
       "</style>\n",
       "<table border=\"1\" class=\"dataframe\">\n",
       "  <thead>\n",
       "    <tr style=\"text-align: right;\">\n",
       "      <th></th>\n",
       "      <th>years</th>\n",
       "      <th>yoy % growth</th>\n",
       "    </tr>\n",
       "  </thead>\n",
       "  <tbody>\n",
       "    <tr>\n",
       "      <th>0</th>\n",
       "      <td>2016</td>\n",
       "      <td>NaN</td>\n",
       "    </tr>\n",
       "    <tr>\n",
       "      <th>1</th>\n",
       "      <td>2017</td>\n",
       "      <td>12112.703758</td>\n",
       "    </tr>\n",
       "    <tr>\n",
       "      <th>2</th>\n",
       "      <td>2018</td>\n",
       "      <td>20.000924</td>\n",
       "    </tr>\n",
       "  </tbody>\n",
       "</table>\n",
       "</div>"
      ],
      "text/plain": [
       "   years  yoy % growth\n",
       "0   2016           NaN\n",
       "1   2017  12112.703758\n",
       "2   2018     20.000924"
      ]
     },
     "execution_count": 30,
     "metadata": {},
     "output_type": "execute_result"
    }
   ],
   "source": [
    "query = \"\"\"with a as(select year(orders.order_purchase_timestamp) as years,\n",
    "round(sum(payments.payment_value),2) as payment from orders join payments\n",
    "on orders.order_id = payments.order_id\n",
    "group by years order by years)\n",
    "\n",
    "select years, ((payment - lag(payment, 1) over(order by years))/\n",
    "lag(payment, 1) over(order by years)) * 100 from a\"\"\"\n",
    "\n",
    "cur.execute(query)\n",
    "data = cur.fetchall()\n",
    "df = pd.DataFrame(data, columns = [\"years\", \"yoy % growth\"])\n",
    "df"
   ]
  },
  {
   "cell_type": "markdown",
   "id": "0892b3a5-7526-43ca-8e29-707ab670787a",
   "metadata": {},
   "source": [
    "# Calculate the retention rate of customers, defined as the percentage of customers who make another purchase within 6 months of their first purchase."
   ]
  },
  {
   "cell_type": "code",
   "execution_count": 31,
   "id": "5b99a400-78a5-4972-bc6b-6671192c69bb",
   "metadata": {},
   "outputs": [
    {
     "data": {
      "text/plain": [
       "[(None,)]"
      ]
     },
     "execution_count": 31,
     "metadata": {},
     "output_type": "execute_result"
    }
   ],
   "source": [
    "query = \"\"\"with a as (select customers.customer_id,\n",
    "min(orders.order_purchase_timestamp) first_order\n",
    "from customers join orders\n",
    "on customers.customer_id = orders.customer_id\n",
    "group by customers.customer_id),\n",
    "\n",
    "b as (select a.customer_id, count(distinct orders.order_purchase_timestamp) next_order\n",
    "from a join orders\n",
    "on orders.customer_id = a.customer_id\n",
    "and orders.order_purchase_timestamp > first_order\n",
    "and orders.order_purchase_timestamp < \n",
    "date_add(first_order, interval 6 month)\n",
    "group by a.customer_id) \n",
    "\n",
    "select 100 * (count( distinct a.customer_id)/ count(distinct b.customer_id)) \n",
    "from a left join b \n",
    "on a.customer_id = b.customer_id ;\"\"\"\n",
    "\n",
    "cur.execute(query)\n",
    "data = cur.fetchall()\n",
    "\n",
    "data"
   ]
  },
  {
   "cell_type": "markdown",
   "id": "2a3cfbfd-07af-46fb-a3d6-8cd646f0d513",
   "metadata": {},
   "source": [
    "# Identify the top 3 customers who spent the most money in each year."
   ]
  },
  {
   "cell_type": "code",
   "execution_count": 32,
   "id": "b2383591-e7bb-49bc-8614-329750a62eda",
   "metadata": {},
   "outputs": [
    {
     "data": {
      "image/png": "[encoded data removed]",
      "text/plain": [
       "<Figure size 640x480 with 1 Axes>"
      ]
     },
     "metadata": {},
     "output_type": "display_data"
    }
   ],
   "source": [
    "query = \"\"\"select years, customer_id, payment, d_rank\n",
    "from\n",
    "(select year(orders.order_purchase_timestamp) years,\n",
    "orders.customer_id,\n",
    "sum(payments.payment_value) payment,\n",
    "dense_rank() over(partition by year(orders.order_purchase_timestamp)\n",
    "order by sum(payments.payment_value) desc) d_rank\n",
    "from orders join payments \n",
    "on payments.order_id = orders.order_id\n",
    "group by year(orders.order_purchase_timestamp),\n",
    "orders.customer_id) as a\n",
    "where d_rank <= 3 ;\"\"\"\n",
    "\n",
    "cur.execute(query)\n",
    "data = cur.fetchall()\n",
    "df = pd.DataFrame(data, columns = [\"years\",\"id\",\"payment\",\"rank\"])\n",
    "sns.barplot(x = \"id\", y = \"payment\", data = df, hue = \"years\")\n",
    "plt.xticks(rotation = 90)\n",
    "plt.show()"
   ]
  }
 ],
 "metadata": {
  "kernelspec": {
   "display_name": "base",
   "language": "python",
   "name": "python3"
  },
  "language_info": {
   "codemirror_mode": {
    "name": "ipython",
    "version": 3
   },
   "file_extension": ".py",
   "mimetype": "text/x-python",
   "name": "python",
   "nbconvert_exporter": "python",
   "pygments_lexer": "ipython3",
   "version": "3.12.7"
  }
 },
 "nbformat": 4,
 "nbformat_minor": 5
}
